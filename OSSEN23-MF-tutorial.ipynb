{
 "cells": [
  {
   "cell_type": "code",
   "execution_count": 1,
   "metadata": {},
   "outputs": [],
   "source": [
    "import numpy as np\n",
    "import pandas as pd \n",
    "import glob\n",
    "\n",
    "import networkx as nx\n",
    "import matplotlib.pyplot as plt\n",
    "\n",
    "# DATA FOLDER\n",
    "DATA_FOLDER = \"./data/\""
   ]
  },
  {
   "attachments": {},
   "cell_type": "markdown",
   "metadata": {},
   "source": [
    "The tutorial will focus on the paper _Abhijit Banerjee et al. ,The Diffusion of Microfinance. Science 341,1236498 (2013)_. In the paper, the authors explore the diffusion of information on micro-credit in several villages in India. In this tutorial, we will work with the original data from the paper, test some of the authors assumptions, and reproduce some of their results. "
   ]
  },
  {
   "cell_type": "code",
   "execution_count": null,
   "metadata": {},
   "outputs": [],
   "source": [
    "\"\"\"\n",
    "    1. Load data on villages\n",
    "\"\"\"\n",
    "\n",
    "# Household info\n",
    "info = ...\n",
    "# Leaders-adopters\n",
    "leadapt = ...\n",
    "\n",
    "# Load network data\n",
    "# Adjacency_matrix\n",
    "adjmats = dict()\n",
    " \n",
    "for file in sorted(glob.glob(DATA_FOLDER + \"adjmat*.csv\")):\n",
    "    # find key adjmat 1 -> 0\n",
    "    key = int(file.split(\"/\")[-1].split(\".\")[0].strip(\"adjmat\")) -1\n",
    "    # load data as numpy array\n",
    "    village_adj = np.loadtxt(file, delimiter=\",\")\n",
    "    adjmats[key] = village_adj\n",
    "\n",
    "graphs = ..."
   ]
  },
  {
   "cell_type": "code",
   "execution_count": null,
   "metadata": {},
   "outputs": [],
   "source": [
    "\"\"\"\n",
    "    1.1 Has everything worked? Plot a graph as an example.\n",
    "\"\"\"\n",
    "\n",
    "fig, ax = plt.subplots(figsize=(10, 10), dpi=200)\n",
    "\n",
    "# Compute nodes positions using spring layout\n",
    "pos = ...\n",
    "\n",
    "...\n",
    "\n",
    "plt.show()\n"
   ]
  },
  {
   "cell_type": "code",
   "execution_count": null,
   "metadata": {},
   "outputs": [],
   "source": [
    "\"\"\"\n",
    "    2. Are the villages similar? \n",
    "    Compute and plot a few basic statistics of our networks: number of nodes, number of edges, average degree, density, and number of components.\n",
    "\"\"\"\n",
    "\n",
    "n_nodes = np.zeros(len(graphs))\n",
    "n_edges = np.zeros(len(graphs))\n",
    "avg_degree = np.zeros(len(graphs))\n",
    "density = np.zeros(len(graphs))\n",
    "diameter = np.zeros(len(graphs))\n",
    "\n",
    "...\n",
    "\n",
    "# Plot distribution of number of nodes\n",
    "...\n",
    "\n",
    "# Plot distribution of density\n",
    "..."
   ]
  },
  {
   "cell_type": "code",
   "execution_count": null,
   "metadata": {},
   "outputs": [],
   "source": [
    "\"\"\"\n",
    "    3. BSS, the microfinance institution mentioned in the paper, targeted \"leaders\" in the villages, assuming that they have a central role in the social network.\n",
    "    Let's see if this is true.\n",
    "\"\"\""
   ]
  },
  {
   "cell_type": "code",
   "execution_count": null,
   "metadata": {},
   "outputs": [],
   "source": [
    "\"\"\"\n",
    "    Plot results\n",
    "\"\"\"\n",
    "# Make scatterplot of leaders vs non-leaders centrality\n",
    "fig, ax = plt.subplots(figsize=(10, 10))\n",
    "\n",
    "# Scatter plot of degree centrality; blue circles\n",
    "ax.scatter(\n",
    "    avg_dc_leaders,\n",
    "    avg_dc_nonleaders,\n",
    "    color=niceblue,\n",
    "    s=100,\n",
    "    marker=\"o\",\n",
    "    facecolor=\"white\",\n",
    "    linewidths=2,\n",
    "    label=\"Degree centrality\",\n",
    ")\n",
    "# Scatter plot of betweenness centrality; red squares\n",
    "ax.scatter(\n",
    "    avg_bc_leaders,\n",
    "    avg_bc_nonleaders,\n",
    "    color=nicered,\n",
    "    s=100,\n",
    "    marker=\"s\",\n",
    "    facecolor=\"white\",\n",
    "    linewidths=2,\n",
    "    label=\"Betweenness centrality\",\n",
    ")\n",
    "# Scatter plot of closeness centrality; green triangles\n",
    "ax.scatter(\n",
    "    avg_cc_leaders,\n",
    "    avg_cc_nonleaders,\n",
    "    color=nicegreen,\n",
    "    s=100,\n",
    "    marker=\"^\",\n",
    "    facecolor=\"white\",\n",
    "    linewidths=2,\n",
    "    label=\"Closeness centrality\",\n",
    ")\n",
    "\n",
    "# Plot diagonal line\n",
    "ax.plot([0, 1], [0, 1], transform=ax.transAxes, ls=\"--\", c=\"red\")\n",
    "\n",
    "# Add legend\n",
    "ax.legend(loc=\"upper left\", fontsize=20)\n",
    "\n",
    "# Add labels\n",
    "ax.set_xlabel(\"Average centrality of leaders\", fontsize=20)\n",
    "ax.set_ylabel(\"Average centrality of non-leaders\", fontsize=20)\n",
    "\n",
    "plt.show()"
   ]
  },
  {
   "cell_type": "code",
   "execution_count": null,
   "metadata": {},
   "outputs": [],
   "source": [
    "\"\"\"\n",
    "    4. Assortative/disassortative mixing: do adopters and non-adopters connect more between themselves?\n",
    "\"\"\""
   ]
  },
  {
   "cell_type": "code",
   "execution_count": null,
   "metadata": {},
   "outputs": [],
   "source": [
    "..."
   ]
  },
  {
   "cell_type": "code",
   "execution_count": null,
   "metadata": {},
   "outputs": [],
   "source": [
    "# Now let's compute some random benchmarks!\n",
    "..."
   ]
  },
  {
   "cell_type": "code",
   "execution_count": 162,
   "metadata": {},
   "outputs": [
    {
     "data": {
      "image/png": "[encoded data removed]",
      "text/plain": [
       "<Figure size 1600x900 with 1 Axes>"
      ]
     },
     "metadata": {},
     "output_type": "display_data"
    }
   ],
   "source": [
    "# Plot results\n",
    "\n",
    "fig, ax = plt.subplots(figsize=(16, 9))\n",
    "# boxplot plot for the benchmarks. Make the median line red\n",
    "bp = ax.boxplot(\n",
    "    assortativity_random.T,\n",
    "    positions=np.arange(len(graphs)) + 1,\n",
    "    showfliers=False,\n",
    ")\n",
    "# Scatter plot of assortativity\n",
    "ax.scatter(\n",
    "    np.arange(len(graphs)) + 1,\n",
    "    s=100,\n",
    "    marker=\"+\",\n",
    ")\n",
    "plt.show()\n",
    "\n",
    "\n",
    "\n",
    "\n"
   ]
  },
  {
   "cell_type": "code",
   "execution_count": 1,
   "metadata": {},
   "outputs": [],
   "source": [
    "\"\"\"\n",
    "    5. BSS targeted villages leaders as seed nodes for their diffusion process. Is this a good strategy?\n",
    "    Simulate the diffusion process using the BSS seed nodes and compare it with a random seed nodes strategy.\n",
    "    Can you identify better seed nodes?\n",
    "\n",
    "    You can use the function below to simulate the diffusion process.\n",
    "\"\"\"\n",
    "\n",
    "qN = 0.05\n",
    "qP = 0.35\n",
    "\n",
    "\n",
    "def diffusion_InformationModel(village_num, qN, qP, A, seeds, T, leadapt=leadapt):\n",
    "    \"\"\"\n",
    "    Diffusion information model with endorsement. Simpler version of the model in the paper.\n",
    "    qN: probability of non-infected to transmit the innovation\n",
    "    qP: probability of infected to transmit the innovation\n",
    "    A: adjacency matrix\n",
    "    leaders: boolean array with leaders\n",
    "    T: number of periods\n",
    "    \"\"\"\n",
    "    N = A.shape[0]  # Number of individuals.\n",
    "    \n",
    "    infected = np.zeros(N, dtype=bool)  # Nobody has been infected yet.\n",
    "    infectedbefore = np.zeros(N, dtype=bool)  # Nobody has been infected yet.\n",
    "    contagiousbefore = np.zeros(N, dtype=bool)  # People who were contagious before\n",
    "    contagious = np.array(seeds).astype(bool)  # Newly informed/contagious.\n",
    "    dynamicInfection = []  # Will be a vector that tracks the infection rate for the number of periods it takes place\n",
    "\n",
    "    contagious_at_t = np.zeros((T, N), dtype=bool)\n",
    "    infected_at_t = np.zeros((T, N), dtype=bool)\n",
    "    \n",
    "    p = leadapt.loc[leadapt.village == village_num, \"adopter\"].mean()\n",
    "    beta = np.log(p / (1 - p))\n",
    "    \n",
    "    for t in range(T):\n",
    "\n",
    "        contagious_at_t[t, :] = contagious.copy()\n",
    "        infected_at_t[t, :] = infected.copy()\n",
    "\n",
    "        # Step 1: Take-up decision based on Newly informed, p. \n",
    "        LOGITprob = 1. / (1 + np.exp(-beta))\n",
    "        infected = ((~contagiousbefore & contagious & (np.random.rand(N) < LOGITprob)) | infected)\n",
    "        infectedbefore = (infectedbefore | infected)\n",
    "        contagiousbefore = (contagious | contagiousbefore)\n",
    "        \n",
    "        # Step 2: Information flows\n",
    "        transmitPROB = (contagious & infected)*qP + (contagious & ~infected)*qN  # Probability of transmission: Pr(.|infected)==qN, Pr(.|~infected)==qP. Individual (node) specific.\n",
    "        contagionlikelihood = transmitPROB.reshape(-1, 1)*A\n",
    "        newcontagious = ((contagionlikelihood > (1. -np.random.random(size=contagionlikelihood.shape))).astype(bool)).any(axis=0)\n",
    "        \n",
    "        # Step 3:\n",
    "        contagious = newcontagious | contagiousbefore\n",
    "        dynamicInfection.append(np.sum(infectedbefore)/N)\n",
    "    \n",
    "    return contagious_at_t, infected_at_t"
   ]
  }
 ],
 "metadata": {
  "kernelspec": {
   "display_name": "yfinance",
   "language": "python",
   "name": "python3"
  },
  "language_info": {
   "codemirror_mode": {
    "name": "ipython",
    "version": 3
   },
   "file_extension": ".py",
   "mimetype": "text/x-python",
   "name": "python",
   "nbconvert_exporter": "python",
   "pygments_lexer": "ipython3",
   "version": "3.11.0"
  },
  "orig_nbformat": 4
 },
 "nbformat": 4,
 "nbformat_minor": 2
}
